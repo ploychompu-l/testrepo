{
 "cells": [
  {
   "cell_type": "markdown",
   "metadata": {
    "collapsed": true
   },
   "source": [
    "#  My Jupyter Notebook on IBM Watson Studio"
   ]
  },
  {
   "cell_type": "markdown",
   "metadata": {},
   "source": [
    "**Ploychompu Loahrattanasaneih**     \n",
    "Data Scientist"
   ]
  },
  {
   "cell_type": "markdown",
   "metadata": {},
   "source": [
    "*I am interested in data science because I love the idea of machine learning and I want to pursue a career in this field*"
   ]
  },
  {
   "cell_type": "markdown",
   "metadata": {},
   "source": [
    "My code in cell 5 is to compute the product of 5 and 6."
   ]
  },
  {
   "cell_type": "code",
   "execution_count": 1,
   "metadata": {},
   "outputs": [
    {
     "data": {
      "text/plain": [
       "30"
      ]
     },
     "execution_count": 1,
     "metadata": {},
     "output_type": "execute_result"
    }
   ],
   "source": [
    "5*6"
   ]
  },
  {
   "cell_type": "markdown",
   "metadata": {},
   "source": [
    "|**Name** | **Age** | **Occupation**| \n",
    "| :---: | :---: | :---: |\n",
    "| Jack | 22 | Teacher |\n",
    "| Michael | 30 | Data Scientist |\n",
    "| Diomarr| 20 | Student |\n",
    "| Wendy | 56 | Spa Therapist |\n",
    "\n",
    "This is my favorite cat named Apollo:  \n",
    "![alt text][cat]\n",
    "\n",
    "[cat]: https://www.britishcattery.com/userfls/shop/medium/689_quadruple-grand-champion-apollo-peace-coon-loretta.jpg \"Apollo Cat\"\n",
    "\n",
    "My favorite kpop groups:\n",
    "* Blackpink\n",
    "* Itzy\n",
    "* BTS \n",
    "* Loona\n",
    "* IVE\n"
   ]
  },
  {
   "cell_type": "code",
   "execution_count": null,
   "metadata": {},
   "outputs": [],
   "source": []
  }
 ],
 "metadata": {
  "kernelspec": {
   "display_name": "Python 3.10",
   "language": "python",
   "name": "python3"
  },
  "language_info": {
   "codemirror_mode": {
    "name": "ipython",
    "version": 3
   },
   "file_extension": ".py",
   "mimetype": "text/x-python",
   "name": "python",
   "nbconvert_exporter": "python",
   "pygments_lexer": "ipython3",
   "version": "3.10.6"
  }
 },
 "nbformat": 4,
 "nbformat_minor": 1
}
